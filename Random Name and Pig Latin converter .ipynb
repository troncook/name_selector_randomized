{
 "cells": [
  {
   "cell_type": "code",
   "execution_count": 3,
   "metadata": {},
   "outputs": [
    {
     "name": "stderr",
     "output_type": "stream",
     "text": [
      "Chigger Nettles\n"
     ]
    },
    {
     "name": "stdout",
     "output_type": "stream",
     "text": [
      "Welcome to the Psych 'Sidekick Name Picker.'\n",
      "\n",
      "A name just like Sean would pick for Gus:\n",
      "\n",
      "\n",
      "\n",
      "\n",
      "\n",
      "\n",
      "\n",
      "\n",
      "\n",
      "\n",
      "Try again? (Press Enter else n to quit)\n",
      " n\n",
      "\n",
      "Press Enter to exit.n\n"
     ]
    },
    {
     "data": {
      "text/plain": [
       "'n'"
      ]
     },
     "execution_count": 3,
     "metadata": {},
     "output_type": "execute_result"
    }
   ],
   "source": [
    "import sys, random\n",
    "\n",
    "print(\"Welcome to the Psych 'Sidekick Name Picker.'\\n\")\n",
    "print(\"A name just like Sean would pick for Gus:\\n\\n\")\n",
    "\n",
    "first = ('Baby Oil', 'Bad News', 'Big Burps', \"Bill 'Beenie-Weenie'\",\n",
    "         \"Bob 'Stinkbug'\", 'Bowel Noises', 'Boxelder', \"Bud 'Lite' \",\n",
    "         'Butterbean', 'Buttermilk', 'Buttocks', 'Chad', 'Chesterfield',\n",
    "         'Chewy', 'Chigger', 'Cinnabuns', 'Cleet', 'Cornbread', 'Crab Meat',\n",
    "         'Crapps', 'Dark Skies', 'Dennis Clawhammer', 'Dicman', 'Elphonso',\n",
    "         'Fancypants', 'Figgs', 'Foncy', 'Gootsy', 'Greasy Jim', 'Huckleberry',\n",
    "         'Huggy', 'Ignatious', 'Jimbo', \"Joe 'Pottin Soil'\", 'Johnny',\n",
    "         'Lemongrass', 'Lil Debil', 'Longbranch', '\"Lunch Money\"', 'Mergatroid',\n",
    "         '\"Mr Peabody\"', 'Oil-Can', 'Oinks', 'Old Scratch', 'Ovaltine',\n",
    "         'Pennywhistle', 'Pitchfork Ben', 'Potato Bug', 'Pushmeet',\n",
    "         'Rock Candy', 'Schlomo', 'Scratchensniff', 'Scut',\n",
    "         \"Sid 'The Squirts'\", 'Skidmark', 'Slaps', 'Snakes', 'Snoobs',\n",
    "         'Snorki', 'Soupcan Sam', 'Spitzitout', 'Squids', 'Stinky',\n",
    "         'Storyboard', 'Sweet Tea', 'TeeTee', 'Wheezy Joe',\n",
    "         \"Winston 'Jazz Hands'\", 'Worms')\n",
    "\n",
    "last = ('Appleyard', 'Bigmeat', 'Bloominshine', 'Boogerbottom',\n",
    "        'Breedslovetrout', 'Butterbaugh', 'Clovenhoof', 'Clutterbuck',\n",
    "        'Cocktoasten', 'Endicott', 'Fewhairs', 'Gooberdapple', 'Goodensmith',\n",
    "        'Goodpasture', 'Guster', 'Henderson', 'Hooperbag', 'Hoosenater',\n",
    "        'Hootkins', 'Jefferson', 'Jenkins', 'Jingley-Schmidt', 'Johnson',\n",
    "        'Kingfish', 'Listenbee', \"M'Bembo\", 'McFadden', 'Moonshine', 'Nettles',\n",
    "        'Noseworthy', 'Olivetti', 'Outerbridge', 'Overpeck', 'Overturf',\n",
    "        'Oxhandler', 'Pealike', 'Pennywhistle', 'Peterson', 'Pieplow',\n",
    "        'Pinkerton', 'Porkins', 'Putney', 'Quakenbush', 'Rainwater',\n",
    "        'Rosenthal', 'Rubbins', 'Sackrider', 'Snuggleshine', 'Splern',\n",
    "        'Stevens', 'Stroganoff', 'Sugar-Gold', 'Swackhamer', 'Tippins',\n",
    "        'Turnipseed', 'Vinaigrette', 'Walkingstick', 'Wallbanger', 'Weewax',\n",
    "        'Weiners', 'Whipkey', 'Wigglesworth', 'Wimplesnatch', 'Winterkorn',\n",
    "        'Woolysocks')\n",
    "\n",
    "while True:\n",
    "\n",
    "    firstName = random.choice(first)\n",
    "\n",
    "    lastName = random.choice(last)\n",
    "\n",
    "    print(\"\\n\\n\")\n",
    "    print(firstName, lastName, file = sys.stderr)\n",
    "    print(\"\\n\\n\")\n",
    "\n",
    "    try_again = input(\"\\n\\nTry again? (Press Enter else n to quit)\\n \")\n",
    "    if try_again.lower() == \"n\":\n",
    "        break\n",
    "\n",
    "input(\"\\nPress Enter to exit.\")"
   ]
  },
  {
   "cell_type": "code",
   "execution_count": 2,
   "metadata": {},
   "outputs": [
    {
     "name": "stdout",
     "output_type": "stream",
     "text": [
      "Type a word and get its pig Latin translation: Colton Cook\n"
     ]
    },
    {
     "name": "stderr",
     "output_type": "stream",
     "text": [
      "olton CookCay\n"
     ]
    },
    {
     "name": "stdout",
     "output_type": "stream",
     "text": [
      "\n",
      "\n",
      "\n",
      "Try again? (Press Enter else n to stop)\n",
      " Sarah Johnson\n",
      "Type a word and get its pig Latin translation: Sarah Johnson\n"
     ]
    },
    {
     "name": "stderr",
     "output_type": "stream",
     "text": [
      "arah JohnsonSay\n"
     ]
    },
    {
     "name": "stdout",
     "output_type": "stream",
     "text": [
      "\n",
      "\n",
      "\n",
      "Try again? (Press Enter else n to stop)\n",
      " n\n"
     ]
    },
    {
     "ename": "SystemExit",
     "evalue": "",
     "output_type": "error",
     "traceback": [
      "An exception has occurred, use %tb to see the full traceback.\n",
      "\u001b[1;31mSystemExit\u001b[0m\n"
     ]
    },
    {
     "name": "stderr",
     "output_type": "stream",
     "text": [
      "C:\\Users\\colto\\Anaconda3\\lib\\site-packages\\IPython\\core\\interactiveshell.py:3304: UserWarning: To exit: use 'exit', 'quit', or Ctrl-D.\n",
      "  warn(\"To exit: use 'exit', 'quit', or Ctrl-D.\", stacklevel=1)\n"
     ]
    }
   ],
   "source": [
    "VOWELS = 'aeiouy'\n",
    "\n",
    "while True:\n",
    "    word = input(\"Type a word and get its pig Latin translation: \")\n",
    "\n",
    "    if word[0] in VOWELS:\n",
    "        pig_Latin = word + 'way'\n",
    "    else:\n",
    "        pig_Latin = word[1:] + word[0] + 'ay'\n",
    "    print()\n",
    "    print(\"{}\".format(pig_Latin), file=sys.stderr)\n",
    "    \n",
    "    try_again = input(\"\\n\\nTry again? (Press Enter else n to stop)\\n \")\n",
    "    if try_again.lower() == \"n\":\n",
    "        sys.exit()"
   ]
  },
  {
   "cell_type": "code",
   "execution_count": null,
   "metadata": {},
   "outputs": [],
   "source": []
  }
 ],
 "metadata": {
  "kernelspec": {
   "display_name": "Python 3",
   "language": "python",
   "name": "python3"
  },
  "language_info": {
   "codemirror_mode": {
    "name": "ipython",
    "version": 3
   },
   "file_extension": ".py",
   "mimetype": "text/x-python",
   "name": "python",
   "nbconvert_exporter": "python",
   "pygments_lexer": "ipython3",
   "version": "3.7.3"
  }
 },
 "nbformat": 4,
 "nbformat_minor": 2
}
